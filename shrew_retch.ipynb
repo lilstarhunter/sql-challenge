{
  "nbformat": 4,
  "nbformat_minor": 0,
  "metadata": {
    "colab": {
      "name": "shrew_retch.ipynb",
      "provenance": [],
      "collapsed_sections": [],
      "include_colab_link": true
    },
    "kernelspec": {
      "display_name": "Python 3",
      "name": "python3"
    },
    "accelerator": "GPU"
  },
  "cells": [
    {
      "cell_type": "markdown",
      "metadata": {
        "id": "view-in-github",
        "colab_type": "text"
      },
      "source": [
        "<a href=\"https://colab.research.google.com/github/lilstarhunter/sql-challenge/blob/master/shrew_retch.ipynb\" target=\"_parent\"><img src=\"https://colab.research.google.com/assets/colab-badge.svg\" alt=\"Open In Colab\"/></a>"
      ]
    },
    {
      "cell_type": "code",
      "metadata": {
        "id": "q23BzhA6CXxu",
        "colab": {
          "base_uri": "https://localhost:8080/"
        },
        "outputId": "10d144f3-b30d-4846-f5cd-9b944f9d869f"
      },
      "source": [
        "# Check that Runtime is set GPU\n",
        "# Install Dependencies\n",
        "!pip install deeplabcut"
      ],
      "execution_count": 1,
      "outputs": [
        {
          "output_type": "stream",
          "name": "stdout",
          "text": [
            "Collecting deeplabcut\n",
            "  Downloading deeplabcut-2.2.0.2-py3-none-any.whl (541 kB)\n",
            "\u001b[?25l\r\u001b[K     |▋                               | 10 kB 26.0 MB/s eta 0:00:01\r\u001b[K     |█▏                              | 20 kB 23.9 MB/s eta 0:00:01\r\u001b[K     |█▉                              | 30 kB 11.5 MB/s eta 0:00:01\r\u001b[K     |██▍                             | 40 kB 9.0 MB/s eta 0:00:01\r\u001b[K     |███                             | 51 kB 5.1 MB/s eta 0:00:01\r\u001b[K     |███▋                            | 61 kB 5.5 MB/s eta 0:00:01\r\u001b[K     |████▎                           | 71 kB 5.9 MB/s eta 0:00:01\r\u001b[K     |████▉                           | 81 kB 6.7 MB/s eta 0:00:01\r\u001b[K     |█████▌                          | 92 kB 6.4 MB/s eta 0:00:01\r\u001b[K     |██████                          | 102 kB 5.4 MB/s eta 0:00:01\r\u001b[K     |██████▋                         | 112 kB 5.4 MB/s eta 0:00:01\r\u001b[K     |███████▎                        | 122 kB 5.4 MB/s eta 0:00:01\r\u001b[K     |███████▉                        | 133 kB 5.4 MB/s eta 0:00:01\r\u001b[K     |████████▌                       | 143 kB 5.4 MB/s eta 0:00:01\r\u001b[K     |█████████                       | 153 kB 5.4 MB/s eta 0:00:01\r\u001b[K     |█████████▊                      | 163 kB 5.4 MB/s eta 0:00:01\r\u001b[K     |██████████▎                     | 174 kB 5.4 MB/s eta 0:00:01\r\u001b[K     |███████████                     | 184 kB 5.4 MB/s eta 0:00:01\r\u001b[K     |███████████▌                    | 194 kB 5.4 MB/s eta 0:00:01\r\u001b[K     |████████████                    | 204 kB 5.4 MB/s eta 0:00:01\r\u001b[K     |████████████▊                   | 215 kB 5.4 MB/s eta 0:00:01\r\u001b[K     |█████████████▎                  | 225 kB 5.4 MB/s eta 0:00:01\r\u001b[K     |██████████████                  | 235 kB 5.4 MB/s eta 0:00:01\r\u001b[K     |██████████████▌                 | 245 kB 5.4 MB/s eta 0:00:01\r\u001b[K     |███████████████▏                | 256 kB 5.4 MB/s eta 0:00:01\r\u001b[K     |███████████████▊                | 266 kB 5.4 MB/s eta 0:00:01\r\u001b[K     |████████████████▍               | 276 kB 5.4 MB/s eta 0:00:01\r\u001b[K     |█████████████████               | 286 kB 5.4 MB/s eta 0:00:01\r\u001b[K     |█████████████████▋              | 296 kB 5.4 MB/s eta 0:00:01\r\u001b[K     |██████████████████▏             | 307 kB 5.4 MB/s eta 0:00:01\r\u001b[K     |██████████████████▊             | 317 kB 5.4 MB/s eta 0:00:01\r\u001b[K     |███████████████████▍            | 327 kB 5.4 MB/s eta 0:00:01\r\u001b[K     |████████████████████            | 337 kB 5.4 MB/s eta 0:00:01\r\u001b[K     |████████████████████▋           | 348 kB 5.4 MB/s eta 0:00:01\r\u001b[K     |█████████████████████▏          | 358 kB 5.4 MB/s eta 0:00:01\r\u001b[K     |█████████████████████▉          | 368 kB 5.4 MB/s eta 0:00:01\r\u001b[K     |██████████████████████▍         | 378 kB 5.4 MB/s eta 0:00:01\r\u001b[K     |███████████████████████         | 389 kB 5.4 MB/s eta 0:00:01\r\u001b[K     |███████████████████████▋        | 399 kB 5.4 MB/s eta 0:00:01\r\u001b[K     |████████████████████████▏       | 409 kB 5.4 MB/s eta 0:00:01\r\u001b[K     |████████████████████████▉       | 419 kB 5.4 MB/s eta 0:00:01\r\u001b[K     |█████████████████████████▍      | 430 kB 5.4 MB/s eta 0:00:01\r\u001b[K     |██████████████████████████      | 440 kB 5.4 MB/s eta 0:00:01\r\u001b[K     |██████████████████████████▋     | 450 kB 5.4 MB/s eta 0:00:01\r\u001b[K     |███████████████████████████▎    | 460 kB 5.4 MB/s eta 0:00:01\r\u001b[K     |███████████████████████████▉    | 471 kB 5.4 MB/s eta 0:00:01\r\u001b[K     |████████████████████████████▌   | 481 kB 5.4 MB/s eta 0:00:01\r\u001b[K     |█████████████████████████████   | 491 kB 5.4 MB/s eta 0:00:01\r\u001b[K     |█████████████████████████████▋  | 501 kB 5.4 MB/s eta 0:00:01\r\u001b[K     |██████████████████████████████▎ | 512 kB 5.4 MB/s eta 0:00:01\r\u001b[K     |██████████████████████████████▉ | 522 kB 5.4 MB/s eta 0:00:01\r\u001b[K     |███████████████████████████████▌| 532 kB 5.4 MB/s eta 0:00:01\r\u001b[K     |████████████████████████████████| 541 kB 5.4 MB/s \n",
            "\u001b[?25hRequirement already satisfied: numpy in /usr/local/lib/python3.7/dist-packages (from deeplabcut) (1.19.5)\n",
            "Collecting statsmodels>=0.11\n",
            "  Downloading statsmodels-0.13.0-cp37-cp37m-manylinux_2_17_x86_64.manylinux2014_x86_64.whl (9.8 MB)\n",
            "\u001b[K     |████████████████████████████████| 9.8 MB 37.4 MB/s \n",
            "\u001b[?25hCollecting filterpy\n",
            "  Downloading filterpy-1.4.5.zip (177 kB)\n",
            "\u001b[K     |████████████████████████████████| 177 kB 52.1 MB/s \n",
            "\u001b[?25hRequirement already satisfied: ipython in /usr/local/lib/python3.7/dist-packages (from deeplabcut) (5.5.0)\n",
            "Requirement already satisfied: Pillow>=7.1 in /usr/local/lib/python3.7/dist-packages (from deeplabcut) (7.1.2)\n",
            "Requirement already satisfied: moviepy in /usr/local/lib/python3.7/dist-packages (from deeplabcut) (0.2.3.5)\n",
            "Requirement already satisfied: tqdm in /usr/local/lib/python3.7/dist-packages (from deeplabcut) (4.62.3)\n",
            "Requirement already satisfied: scipy>=1.4 in /usr/local/lib/python3.7/dist-packages (from deeplabcut) (1.4.1)\n",
            "Requirement already satisfied: tables in /usr/local/lib/python3.7/dist-packages (from deeplabcut) (3.4.4)\n",
            "Requirement already satisfied: pyyaml in /usr/local/lib/python3.7/dist-packages (from deeplabcut) (3.13)\n",
            "Collecting scikit-image>=0.17\n",
            "  Downloading scikit_image-0.18.3-cp37-cp37m-manylinux_2_5_x86_64.manylinux1_x86_64.whl (29.2 MB)\n",
            "\u001b[K     |████████████████████████████████| 29.2 MB 82 kB/s \n",
            "\u001b[?25hCollecting tf-slim\n",
            "  Downloading tf_slim-1.1.0-py2.py3-none-any.whl (352 kB)\n",
            "\u001b[K     |████████████████████████████████| 352 kB 43.1 MB/s \n",
            "\u001b[?25hRequirement already satisfied: pandas>=1.0.1 in /usr/local/lib/python3.7/dist-packages (from deeplabcut) (1.1.5)\n",
            "Collecting imgaug>=0.4.0\n",
            "  Downloading imgaug-0.4.0-py2.py3-none-any.whl (948 kB)\n",
            "\u001b[K     |████████████████████████████████| 948 kB 38.6 MB/s \n",
            "\u001b[?25hRequirement already satisfied: scikit-learn in /usr/local/lib/python3.7/dist-packages (from deeplabcut) (0.22.2.post1)\n",
            "Collecting opencv-python-headless\n",
            "  Downloading opencv_python_headless-4.5.4.58-cp37-cp37m-manylinux2014_x86_64.whl (47.6 MB)\n",
            "\u001b[K     |████████████████████████████████| 47.6 MB 31 kB/s \n",
            "\u001b[?25hRequirement already satisfied: numba in /usr/local/lib/python3.7/dist-packages (from deeplabcut) (0.51.2)\n",
            "Requirement already satisfied: networkx in /usr/local/lib/python3.7/dist-packages (from deeplabcut) (2.6.3)\n",
            "Collecting ruamel.yaml>=0.15.0\n",
            "  Downloading ruamel.yaml-0.17.16-py3-none-any.whl (109 kB)\n",
            "\u001b[K     |████████████████████████████████| 109 kB 44.5 MB/s \n",
            "\u001b[?25hRequirement already satisfied: tensorflow>=2.0 in /usr/local/lib/python3.7/dist-packages (from deeplabcut) (2.6.0)\n",
            "Collecting tensorpack\n",
            "  Downloading tensorpack-0.11-py2.py3-none-any.whl (296 kB)\n",
            "\u001b[K     |████████████████████████████████| 296 kB 46.8 MB/s \n",
            "\u001b[?25hRequirement already satisfied: matplotlib in /usr/local/lib/python3.7/dist-packages (from deeplabcut) (3.2.2)\n",
            "Requirement already satisfied: imageio in /usr/local/lib/python3.7/dist-packages (from imgaug>=0.4.0->deeplabcut) (2.4.1)\n",
            "Requirement already satisfied: Shapely in /usr/local/lib/python3.7/dist-packages (from imgaug>=0.4.0->deeplabcut) (1.7.1)\n",
            "Requirement already satisfied: six in /usr/local/lib/python3.7/dist-packages (from imgaug>=0.4.0->deeplabcut) (1.15.0)\n",
            "Requirement already satisfied: opencv-python in /usr/local/lib/python3.7/dist-packages (from imgaug>=0.4.0->deeplabcut) (4.1.2.30)\n",
            "Requirement already satisfied: python-dateutil>=2.7.3 in /usr/local/lib/python3.7/dist-packages (from pandas>=1.0.1->deeplabcut) (2.8.2)\n",
            "Requirement already satisfied: pytz>=2017.2 in /usr/local/lib/python3.7/dist-packages (from pandas>=1.0.1->deeplabcut) (2018.9)\n",
            "Collecting ruamel.yaml.clib>=0.1.2\n",
            "  Downloading ruamel.yaml.clib-0.2.6-cp37-cp37m-manylinux1_x86_64.whl (546 kB)\n",
            "\u001b[K     |████████████████████████████████| 546 kB 33.0 MB/s \n",
            "\u001b[?25hRequirement already satisfied: tifffile>=2019.7.26 in /usr/local/lib/python3.7/dist-packages (from scikit-image>=0.17->deeplabcut) (2021.8.30)\n",
            "Requirement already satisfied: PyWavelets>=1.1.1 in /usr/local/lib/python3.7/dist-packages (from scikit-image>=0.17->deeplabcut) (1.1.1)\n",
            "Requirement already satisfied: cycler>=0.10 in /usr/local/lib/python3.7/dist-packages (from matplotlib->deeplabcut) (0.10.0)\n",
            "Requirement already satisfied: kiwisolver>=1.0.1 in /usr/local/lib/python3.7/dist-packages (from matplotlib->deeplabcut) (1.3.2)\n",
            "Requirement already satisfied: pyparsing!=2.0.4,!=2.1.2,!=2.1.6,>=2.0.1 in /usr/local/lib/python3.7/dist-packages (from matplotlib->deeplabcut) (2.4.7)\n",
            "Requirement already satisfied: patsy>=0.5.2 in /usr/local/lib/python3.7/dist-packages (from statsmodels>=0.11->deeplabcut) (0.5.2)\n",
            "Requirement already satisfied: keras~=2.6 in /usr/local/lib/python3.7/dist-packages (from tensorflow>=2.0->deeplabcut) (2.6.0)\n",
            "Requirement already satisfied: wheel~=0.35 in /usr/local/lib/python3.7/dist-packages (from tensorflow>=2.0->deeplabcut) (0.37.0)\n",
            "Requirement already satisfied: opt-einsum~=3.3.0 in /usr/local/lib/python3.7/dist-packages (from tensorflow>=2.0->deeplabcut) (3.3.0)\n",
            "Requirement already satisfied: google-pasta~=0.2 in /usr/local/lib/python3.7/dist-packages (from tensorflow>=2.0->deeplabcut) (0.2.0)\n",
            "Requirement already satisfied: wrapt~=1.12.1 in /usr/local/lib/python3.7/dist-packages (from tensorflow>=2.0->deeplabcut) (1.12.1)\n",
            "Requirement already satisfied: typing-extensions~=3.7.4 in /usr/local/lib/python3.7/dist-packages (from tensorflow>=2.0->deeplabcut) (3.7.4.3)\n",
            "Requirement already satisfied: absl-py~=0.10 in /usr/local/lib/python3.7/dist-packages (from tensorflow>=2.0->deeplabcut) (0.12.0)\n",
            "Requirement already satisfied: keras-preprocessing~=1.1.2 in /usr/local/lib/python3.7/dist-packages (from tensorflow>=2.0->deeplabcut) (1.1.2)\n",
            "Requirement already satisfied: tensorflow-estimator~=2.6 in /usr/local/lib/python3.7/dist-packages (from tensorflow>=2.0->deeplabcut) (2.6.0)\n",
            "Requirement already satisfied: flatbuffers~=1.12.0 in /usr/local/lib/python3.7/dist-packages (from tensorflow>=2.0->deeplabcut) (1.12)\n",
            "Requirement already satisfied: astunparse~=1.6.3 in /usr/local/lib/python3.7/dist-packages (from tensorflow>=2.0->deeplabcut) (1.6.3)\n",
            "Requirement already satisfied: protobuf>=3.9.2 in /usr/local/lib/python3.7/dist-packages (from tensorflow>=2.0->deeplabcut) (3.17.3)\n",
            "Requirement already satisfied: h5py~=3.1.0 in /usr/local/lib/python3.7/dist-packages (from tensorflow>=2.0->deeplabcut) (3.1.0)\n",
            "Requirement already satisfied: grpcio<2.0,>=1.37.0 in /usr/local/lib/python3.7/dist-packages (from tensorflow>=2.0->deeplabcut) (1.41.0)\n",
            "Requirement already satisfied: termcolor~=1.1.0 in /usr/local/lib/python3.7/dist-packages (from tensorflow>=2.0->deeplabcut) (1.1.0)\n",
            "Requirement already satisfied: gast==0.4.0 in /usr/local/lib/python3.7/dist-packages (from tensorflow>=2.0->deeplabcut) (0.4.0)\n",
            "Requirement already satisfied: tensorboard~=2.6 in /usr/local/lib/python3.7/dist-packages (from tensorflow>=2.0->deeplabcut) (2.6.0)\n",
            "Requirement already satisfied: clang~=5.0 in /usr/local/lib/python3.7/dist-packages (from tensorflow>=2.0->deeplabcut) (5.0)\n",
            "Requirement already satisfied: cached-property in /usr/local/lib/python3.7/dist-packages (from h5py~=3.1.0->tensorflow>=2.0->deeplabcut) (1.5.2)\n",
            "Requirement already satisfied: setuptools>=41.0.0 in /usr/local/lib/python3.7/dist-packages (from tensorboard~=2.6->tensorflow>=2.0->deeplabcut) (57.4.0)\n",
            "Requirement already satisfied: google-auth-oauthlib<0.5,>=0.4.1 in /usr/local/lib/python3.7/dist-packages (from tensorboard~=2.6->tensorflow>=2.0->deeplabcut) (0.4.6)\n",
            "Requirement already satisfied: markdown>=2.6.8 in /usr/local/lib/python3.7/dist-packages (from tensorboard~=2.6->tensorflow>=2.0->deeplabcut) (3.3.4)\n",
            "Requirement already satisfied: requests<3,>=2.21.0 in /usr/local/lib/python3.7/dist-packages (from tensorboard~=2.6->tensorflow>=2.0->deeplabcut) (2.23.0)\n",
            "Requirement already satisfied: tensorboard-data-server<0.7.0,>=0.6.0 in /usr/local/lib/python3.7/dist-packages (from tensorboard~=2.6->tensorflow>=2.0->deeplabcut) (0.6.1)\n",
            "Requirement already satisfied: tensorboard-plugin-wit>=1.6.0 in /usr/local/lib/python3.7/dist-packages (from tensorboard~=2.6->tensorflow>=2.0->deeplabcut) (1.8.0)\n",
            "Requirement already satisfied: google-auth<2,>=1.6.3 in /usr/local/lib/python3.7/dist-packages (from tensorboard~=2.6->tensorflow>=2.0->deeplabcut) (1.35.0)\n",
            "Requirement already satisfied: werkzeug>=0.11.15 in /usr/local/lib/python3.7/dist-packages (from tensorboard~=2.6->tensorflow>=2.0->deeplabcut) (1.0.1)\n",
            "Requirement already satisfied: rsa<5,>=3.1.4 in /usr/local/lib/python3.7/dist-packages (from google-auth<2,>=1.6.3->tensorboard~=2.6->tensorflow>=2.0->deeplabcut) (4.7.2)\n",
            "Requirement already satisfied: pyasn1-modules>=0.2.1 in /usr/local/lib/python3.7/dist-packages (from google-auth<2,>=1.6.3->tensorboard~=2.6->tensorflow>=2.0->deeplabcut) (0.2.8)\n",
            "Requirement already satisfied: cachetools<5.0,>=2.0.0 in /usr/local/lib/python3.7/dist-packages (from google-auth<2,>=1.6.3->tensorboard~=2.6->tensorflow>=2.0->deeplabcut) (4.2.4)\n",
            "Requirement already satisfied: requests-oauthlib>=0.7.0 in /usr/local/lib/python3.7/dist-packages (from google-auth-oauthlib<0.5,>=0.4.1->tensorboard~=2.6->tensorflow>=2.0->deeplabcut) (1.3.0)\n",
            "Requirement already satisfied: importlib-metadata in /usr/local/lib/python3.7/dist-packages (from markdown>=2.6.8->tensorboard~=2.6->tensorflow>=2.0->deeplabcut) (4.8.1)\n",
            "Requirement already satisfied: pyasn1<0.5.0,>=0.4.6 in /usr/local/lib/python3.7/dist-packages (from pyasn1-modules>=0.2.1->google-auth<2,>=1.6.3->tensorboard~=2.6->tensorflow>=2.0->deeplabcut) (0.4.8)\n",
            "Requirement already satisfied: urllib3!=1.25.0,!=1.25.1,<1.26,>=1.21.1 in /usr/local/lib/python3.7/dist-packages (from requests<3,>=2.21.0->tensorboard~=2.6->tensorflow>=2.0->deeplabcut) (1.24.3)\n",
            "Requirement already satisfied: certifi>=2017.4.17 in /usr/local/lib/python3.7/dist-packages (from requests<3,>=2.21.0->tensorboard~=2.6->tensorflow>=2.0->deeplabcut) (2021.5.30)\n",
            "Requirement already satisfied: idna<3,>=2.5 in /usr/local/lib/python3.7/dist-packages (from requests<3,>=2.21.0->tensorboard~=2.6->tensorflow>=2.0->deeplabcut) (2.10)\n",
            "Requirement already satisfied: chardet<4,>=3.0.2 in /usr/local/lib/python3.7/dist-packages (from requests<3,>=2.21.0->tensorboard~=2.6->tensorflow>=2.0->deeplabcut) (3.0.4)\n",
            "Requirement already satisfied: oauthlib>=3.0.0 in /usr/local/lib/python3.7/dist-packages (from requests-oauthlib>=0.7.0->google-auth-oauthlib<0.5,>=0.4.1->tensorboard~=2.6->tensorflow>=2.0->deeplabcut) (3.1.1)\n",
            "Requirement already satisfied: zipp>=0.5 in /usr/local/lib/python3.7/dist-packages (from importlib-metadata->markdown>=2.6.8->tensorboard~=2.6->tensorflow>=2.0->deeplabcut) (3.6.0)\n",
            "Requirement already satisfied: prompt-toolkit<2.0.0,>=1.0.4 in /usr/local/lib/python3.7/dist-packages (from ipython->deeplabcut) (1.0.18)\n",
            "Requirement already satisfied: pexpect in /usr/local/lib/python3.7/dist-packages (from ipython->deeplabcut) (4.8.0)\n",
            "Requirement already satisfied: pygments in /usr/local/lib/python3.7/dist-packages (from ipython->deeplabcut) (2.6.1)\n",
            "Requirement already satisfied: decorator in /usr/local/lib/python3.7/dist-packages (from ipython->deeplabcut) (4.4.2)\n",
            "Requirement already satisfied: simplegeneric>0.8 in /usr/local/lib/python3.7/dist-packages (from ipython->deeplabcut) (0.8.1)\n",
            "Requirement already satisfied: traitlets>=4.2 in /usr/local/lib/python3.7/dist-packages (from ipython->deeplabcut) (5.1.0)\n",
            "Requirement already satisfied: pickleshare in /usr/local/lib/python3.7/dist-packages (from ipython->deeplabcut) (0.7.5)\n",
            "Requirement already satisfied: wcwidth in /usr/local/lib/python3.7/dist-packages (from prompt-toolkit<2.0.0,>=1.0.4->ipython->deeplabcut) (0.2.5)\n",
            "Requirement already satisfied: llvmlite<0.35,>=0.34.0.dev0 in /usr/local/lib/python3.7/dist-packages (from numba->deeplabcut) (0.34.0)\n",
            "Requirement already satisfied: ptyprocess>=0.5 in /usr/local/lib/python3.7/dist-packages (from pexpect->ipython->deeplabcut) (0.7.0)\n",
            "Requirement already satisfied: joblib>=0.11 in /usr/local/lib/python3.7/dist-packages (from scikit-learn->deeplabcut) (1.0.1)\n",
            "Requirement already satisfied: numexpr>=2.5.2 in /usr/local/lib/python3.7/dist-packages (from tables->deeplabcut) (2.7.3)\n",
            "Requirement already satisfied: pyzmq>=16 in /usr/local/lib/python3.7/dist-packages (from tensorpack->deeplabcut) (22.3.0)\n",
            "Requirement already satisfied: psutil>=5 in /usr/local/lib/python3.7/dist-packages (from tensorpack->deeplabcut) (5.4.8)\n",
            "Requirement already satisfied: msgpack>=0.5.2 in /usr/local/lib/python3.7/dist-packages (from tensorpack->deeplabcut) (1.0.2)\n",
            "Requirement already satisfied: tabulate>=0.7.7 in /usr/local/lib/python3.7/dist-packages (from tensorpack->deeplabcut) (0.8.9)\n",
            "Collecting msgpack-numpy>=0.4.4.2\n",
            "  Downloading msgpack_numpy-0.4.7.1-py2.py3-none-any.whl (6.7 kB)\n",
            "Building wheels for collected packages: filterpy\n",
            "  Building wheel for filterpy (setup.py) ... \u001b[?25l\u001b[?25hdone\n",
            "  Created wheel for filterpy: filename=filterpy-1.4.5-py3-none-any.whl size=110474 sha256=577bfd19de6be42f37214ef2a53d7d2e3431068de5bb95dc0f1397df134b8e4b\n",
            "  Stored in directory: /root/.cache/pip/wheels/ce/e0/ee/a2b3c5caab3418c1ccd8c4de573d4cbe13315d7e8b0a55fbc2\n",
            "Successfully built filterpy\n",
            "Installing collected packages: scikit-image, ruamel.yaml.clib, msgpack-numpy, tf-slim, tensorpack, statsmodels, ruamel.yaml, opencv-python-headless, imgaug, filterpy, deeplabcut\n",
            "  Attempting uninstall: scikit-image\n",
            "    Found existing installation: scikit-image 0.16.2\n",
            "    Uninstalling scikit-image-0.16.2:\n",
            "      Successfully uninstalled scikit-image-0.16.2\n",
            "  Attempting uninstall: statsmodels\n",
            "    Found existing installation: statsmodels 0.10.2\n",
            "    Uninstalling statsmodels-0.10.2:\n",
            "      Successfully uninstalled statsmodels-0.10.2\n",
            "  Attempting uninstall: imgaug\n",
            "    Found existing installation: imgaug 0.2.9\n",
            "    Uninstalling imgaug-0.2.9:\n",
            "      Successfully uninstalled imgaug-0.2.9\n",
            "\u001b[31mERROR: pip's dependency resolver does not currently take into account all the packages that are installed. This behaviour is the source of the following dependency conflicts.\n",
            "albumentations 0.1.12 requires imgaug<0.2.7,>=0.2.5, but you have imgaug 0.4.0 which is incompatible.\u001b[0m\n",
            "Successfully installed deeplabcut-2.2.0.2 filterpy-1.4.5 imgaug-0.4.0 msgpack-numpy-0.4.7.1 opencv-python-headless-4.5.4.58 ruamel.yaml-0.17.16 ruamel.yaml.clib-0.2.6 scikit-image-0.18.3 statsmodels-0.13.0 tensorpack-0.11 tf-slim-1.1.0\n"
          ]
        }
      ]
    },
    {
      "cell_type": "code",
      "metadata": {
        "id": "TTcmJskoK0Ku",
        "colab": {
          "base_uri": "https://localhost:8080/"
        },
        "outputId": "07591e19-2b14-4576-b64f-d4983d2868b5"
      },
      "source": [
        "# Use TensorFlow 1.x:\n",
        "%tensorflow_version 1.x"
      ],
      "execution_count": 2,
      "outputs": [
        {
          "output_type": "stream",
          "name": "stdout",
          "text": [
            "TensorFlow 1.x selected.\n"
          ]
        }
      ]
    },
    {
      "cell_type": "code",
      "metadata": {
        "colab": {
          "base_uri": "https://localhost:8080/"
        },
        "id": "KS4Q4UkR9rgG",
        "outputId": "2f1602cc-5403-4f47-989d-5e6924e6c834"
      },
      "source": [
        "# Link Google Drive files\n",
        "\n",
        "from google.colab import drive\n",
        "drive.mount('/content/drive/')"
      ],
      "execution_count": 3,
      "outputs": [
        {
          "output_type": "stream",
          "name": "stdout",
          "text": [
            "Mounted at /content/drive/\n"
          ]
        }
      ]
    },
    {
      "cell_type": "code",
      "metadata": {
        "id": "oTwAcbq2-FZz",
        "colab": {
          "base_uri": "https://localhost:8080/"
        },
        "outputId": "dbf333d8-6982-4a64-b7a9-c5241cfb07fe"
      },
      "source": [
        "import deeplabcut"
      ],
      "execution_count": 4,
      "outputs": [
        {
          "output_type": "stream",
          "name": "stdout",
          "text": [
            "DLC loaded in light mode; you cannot use any GUI (labeling, relabeling and standalone GUI)\n"
          ]
        }
      ]
    },
    {
      "cell_type": "code",
      "metadata": {
        "id": "XvdK6s8HLMm1"
      },
      "source": [
        "import os\n",
        "os.environ[\"DLClight\"]=\"True\""
      ],
      "execution_count": 5,
      "outputs": []
    },
    {
      "cell_type": "code",
      "metadata": {
        "id": "D6c1336yK-uq"
      },
      "source": [
        "#  Assign project variables\n",
        "ProjectFolderName = 'retch-lms-2021-10-25'\n",
        "VideoType = 'mp4' \n",
        "videofile_path = ['/content/drive/My Drive/Colab Notebooks/shrew_emesis/'+ProjectFolderName+'/videos/'] \n",
        "path_config_file = '/content/drive/My Drive/Colab Notebooks/shrew_emesis/'+ProjectFolderName+'/config.yaml'"
      ],
      "execution_count": 6,
      "outputs": []
    },
    {
      "cell_type": "code",
      "metadata": {
        "id": "To2G504_MtEP"
      },
      "source": [
        "# Create a training dataset\n",
        "deeplabcut.create_training_dataset(path_config_file, net_type='resnet_50', augmenter_type='imgaug')"
      ],
      "execution_count": null,
      "outputs": []
    },
    {
      "cell_type": "code",
      "metadata": {
        "id": "_pOvDq_2oEJW"
      },
      "source": [
        "# Training - Iteration 0\n",
        "# if i ==0:\n",
        "shuffle = 1\n",
        "deeplabcut.train_network(path_config_file, shuffle=shuffle, displayiters=100,saveiters=3000, maxiters=12000, allow_growth=True)"
      ],
      "execution_count": null,
      "outputs": []
    },
    {
      "cell_type": "code",
      "metadata": {
        "id": "nv4zlbrnoEJg"
      },
      "source": [
        "if i == 0:\n",
        "  %matplotlib notebook\n",
        "  # Evaluate the model\n",
        "  shuffle=1\n",
        "  deeplabcut.evaluate_network(path_config_file,Shuffles=[shuffle], plotting=False)"
      ],
      "execution_count": null,
      "outputs": []
    },
    {
      "cell_type": "code",
      "metadata": {
        "colab": {
          "base_uri": "https://localhost:8080/"
        },
        "id": "wT5REKCgbUlH",
        "outputId": "6dcefac5-7cdf-4608-8691-a7aaee6d9dfb"
      },
      "source": [
        "  #plot a few scoremaps:\n",
        "  deeplabcut.extract_save_all_maps(path_config_file, shuffle=1, Indices=[0,100,200])"
      ],
      "execution_count": null,
      "outputs": [
        {
          "output_type": "stream",
          "name": "stdout",
          "text": [
            "/content/drive/My Drive/Colab Notebooks/shrew_emesis/vomitting-LMS-2021-10-19/evaluation-results/  already exists!\n",
            "/content/drive/My Drive/Colab Notebooks/shrew_emesis/vomitting-LMS-2021-10-19/evaluation-results/iteration-0/vomittingOct19-trainset95shuffle1  already exists!\n",
            "Analyzing data...\n"
          ]
        },
        {
          "output_type": "stream",
          "name": "stderr",
          "text": [
            "3it [00:02,  1.48it/s]\n"
          ]
        },
        {
          "output_type": "stream",
          "name": "stdout",
          "text": [
            "Saving plots...\n",
            "/content/drive/My Drive/Colab Notebooks/shrew_emesis/vomitting-LMS-2021-10-19/evaluation-results/iteration-0/vomittingOct19-trainset95shuffle1/maps  already exists!\n"
          ]
        },
        {
          "output_type": "stream",
          "name": "stderr",
          "text": [
            "100%|██████████| 3/3 [00:01<00:00,  1.73it/s]\n"
          ]
        }
      ]
    },
    {
      "cell_type": "code",
      "metadata": {
        "id": "gQuUtWJAZu-0"
      },
      "source": [
        "# Specific video paths\n",
        "base = '/content/drive/My Drive/Colab Notebooks/shrew_emesis/retch-lms-2021-10-25/videos/nicotine_emesis_101921_shrew1_short/nicotine_emesis_101921_shrew1_short.mp4'"
      ],
      "execution_count": 7,
      "outputs": []
    },
    {
      "cell_type": "code",
      "metadata": {
        "colab": {
          "base_uri": "https://localhost:8080/",
          "height": 276
        },
        "id": "EQIk2clsBtuJ",
        "outputId": "cb39f829-f9a1-43ec-9406-41dff628e948"
      },
      "source": [
        "deeplabcut.analyze_videos(path_config_file, base, videotype = 'mp4')"
      ],
      "execution_count": 8,
      "outputs": [
        {
          "output_type": "stream",
          "name": "stdout",
          "text": [
            "Using snapshot-5000 for model /content/drive/My Drive/Colab Notebooks/shrew_emesis/retch-lms-2021-10-25/dlc-models/iteration-0/retchOct25-trainset95shuffle1\n",
            "Starting to analyze %  /content/drive/My Drive/Colab Notebooks/shrew_emesis/retch-lms-2021-10-25/videos/nicotine_emesis_101921_shrew1_short/nicotine_emesis_101921_shrew1_short.mp4\n",
            "/content/drive/My Drive/Colab Notebooks/shrew_emesis/retch-lms-2021-10-25/videos/nicotine_emesis_101921_shrew1_short  already exists!\n",
            "Loading  /content/drive/My Drive/Colab Notebooks/shrew_emesis/retch-lms-2021-10-25/videos/nicotine_emesis_101921_shrew1_short/nicotine_emesis_101921_shrew1_short.mp4\n",
            "Duration of video [s]:  29.66 , recorded with  59.94 fps!\n",
            "Overall # of frames:  1778  found with (before cropping) frame dimensions:  750 452\n",
            "Starting to extract posture\n"
          ]
        },
        {
          "output_type": "stream",
          "name": "stderr",
          "text": [
            "1785it [01:47, 16.68it/s]\n"
          ]
        },
        {
          "output_type": "stream",
          "name": "stdout",
          "text": [
            "Saving results in /content/drive/My Drive/Colab Notebooks/shrew_emesis/retch-lms-2021-10-25/videos/nicotine_emesis_101921_shrew1_short...\n",
            "The videos are analyzed. Now your research can truly start! \n",
            " You can create labeled videos with 'create_labeled_video'\n",
            "If the tracking is not satisfactory for some videos, consider expanding the training set. You can use the function 'extract_outlier_frames' to extract a few representative outlier frames.\n"
          ]
        },
        {
          "output_type": "execute_result",
          "data": {
            "application/vnd.google.colaboratory.intrinsic+json": {
              "type": "string"
            },
            "text/plain": [
              "'DLC_resnet50_retchOct25shuffle1_5000'"
            ]
          },
          "metadata": {},
          "execution_count": 8
        }
      ]
    },
    {
      "cell_type": "code",
      "metadata": {
        "id": "TjsHBA9_EFeD"
      },
      "source": [
        ""
      ],
      "execution_count": null,
      "outputs": []
    },
    {
      "cell_type": "markdown",
      "metadata": {
        "id": "7q33b2dKZXyr"
      },
      "source": [
        "Shrew #1 Video Analysis"
      ]
    },
    {
      "cell_type": "code",
      "metadata": {
        "colab": {
          "base_uri": "https://localhost:8080/",
          "height": 137
        },
        "id": "Y_LZiS_0oEJl",
        "outputId": "bbc8302c-9f3f-4ced-9939-6eb463c8fb28"
      },
      "source": [
        "# Analyze videos\n",
        "videofile_path = [shrew1_video_path] \n",
        "deeplabcut.analyze_videos(path_config_file,videofile_path, videotype=VideoType)"
      ],
      "execution_count": null,
      "outputs": [
        {
          "output_type": "stream",
          "name": "stdout",
          "text": [
            "Using snapshot-11000 for model /content/drive/My Drive/Colab Notebooks/shrew_emesis/vomitting-LMS-2021-10-19/dlc-models/iteration-0/vomittingOct19-trainset95shuffle1\n",
            "Starting to analyze %  /content/drive/My Drive/Colab Notebooks/shrew_emesis/vomitting-LMS-2021-10-19/videos/nicotine_emesis_10.19.21_shrew1_short.mp4\n",
            "/content/drive/My Drive/Colab Notebooks/shrew_emesis/vomitting-LMS-2021-10-19/videos  already exists!\n",
            "The videos are analyzed. Now your research can truly start! \n",
            " You can create labeled videos with 'create_labeled_video'\n",
            "If the tracking is not satisfactory for some videos, consider expanding the training set. You can use the function 'extract_outlier_frames' to extract a few representative outlier frames.\n"
          ]
        },
        {
          "output_type": "execute_result",
          "data": {
            "application/vnd.google.colaboratory.intrinsic+json": {
              "type": "string"
            },
            "text/plain": [
              "'DLC_resnet50_vomittingOct19shuffle1_11000'"
            ]
          },
          "metadata": {},
          "execution_count": 19
        }
      ]
    },
    {
      "cell_type": "code",
      "metadata": {
        "colab": {
          "base_uri": "https://localhost:8080/"
        },
        "id": "dqopeaDQadHL",
        "outputId": "462a2b63-2712-414c-ce88-d60d7c285950"
      },
      "source": [
        "deeplabcut.plot_trajectories(path_config_file,videofile_path, videotype=VideoType)"
      ],
      "execution_count": null,
      "outputs": [
        {
          "output_type": "stream",
          "name": "stdout",
          "text": [
            "Loading  /content/drive/My Drive/Colab Notebooks/shrew_emesis/vomitting-LMS-2021-10-19/videos/nicotine_emesis_10.19.21_shrew1_short.mp4 and data.\n",
            "/content/drive/My Drive/Colab Notebooks/shrew_emesis/vomitting-LMS-2021-10-19/videos/plot-poses/nicotine_emesis_10.19.21_shrew1_short  already exists!\n",
            "Plots created! Please check the directory \"plot-poses\" within the video directory\n"
          ]
        }
      ]
    },
    {
      "cell_type": "code",
      "metadata": {
        "id": "sWJ6UnPHShgE",
        "colab": {
          "base_uri": "https://localhost:8080/"
        },
        "outputId": "55beb966-9961-4d03-d98c-6d482bba2e1f"
      },
      "source": [
        "deeplabcut.create_labeled_video(path_config_file,videofile_path, videotype=\"mp4\")"
      ],
      "execution_count": null,
      "outputs": [
        {
          "output_type": "stream",
          "name": "stdout",
          "text": [
            "/content/drive/My Drive/Colab Notebooks/shrew_emesis/vomitting-LMS-2021-10-19/videos  already exists!\n",
            "Starting to process video: /content/drive/My Drive/Colab Notebooks/shrew_emesis/vomitting-LMS-2021-10-19/videos/nicotine_emesis_10.19.21_shrew1_short.mp4\n",
            "Labeled video nicotine_emesis_10.19.21_shrew1_short already created.\n"
          ]
        }
      ]
    },
    {
      "cell_type": "markdown",
      "metadata": {
        "id": "qRtZ93_AcdGe"
      },
      "source": [
        "Shrew #2 Video Analysis"
      ]
    },
    {
      "cell_type": "code",
      "metadata": {
        "id": "IBu-Vvpr4Jle",
        "colab": {
          "base_uri": "https://localhost:8080/",
          "height": 239
        },
        "outputId": "f7f90e7d-93eb-42b7-bd69-0204662b09e1"
      },
      "source": [
        "# Analyze videos\n",
        "videofile_path = [shrew2_video_path] \n",
        "deeplabcut.analyze_videos(path_config_file,videofile_path, videotype=VideoType)"
      ],
      "execution_count": null,
      "outputs": [
        {
          "output_type": "stream",
          "name": "stdout",
          "text": [
            "Using snapshot-11000 for model /content/drive/My Drive/Colab Notebooks/shrew_emesis/vomitting-LMS-2021-10-19/dlc-models/iteration-0/vomittingOct19-trainset95shuffle1\n",
            "Starting to analyze %  /content/drive/My Drive/Colab Notebooks/shrew_emesis/vomitting-LMS-2021-10-19/videos/original_video/nicotine_emesis_10.19.21_shrew2_short.mp4\n",
            "/content/drive/My Drive/Colab Notebooks/shrew_emesis/vomitting-LMS-2021-10-19/videos/original_video  already exists!\n",
            "Loading  /content/drive/My Drive/Colab Notebooks/shrew_emesis/vomitting-LMS-2021-10-19/videos/original_video/nicotine_emesis_10.19.21_shrew2_short.mp4\n",
            "Duration of video [s]:  29.6 , recorded with  59.94 fps!\n",
            "Overall # of frames:  1774  found with (before cropping) frame dimensions:  750 452\n",
            "Starting to extract posture\n"
          ]
        },
        {
          "output_type": "stream",
          "name": "stderr",
          "text": [
            "1785it [01:41, 17.52it/s]"
          ]
        },
        {
          "output_type": "stream",
          "name": "stdout",
          "text": [
            "Saving results in /content/drive/My Drive/Colab Notebooks/shrew_emesis/vomitting-LMS-2021-10-19/videos/original_video...\n",
            "The videos are analyzed. Now your research can truly start! \n",
            " You can create labeled videos with 'create_labeled_video'\n",
            "If the tracking is not satisfactory for some videos, consider expanding the training set. You can use the function 'extract_outlier_frames' to extract a few representative outlier frames.\n"
          ]
        },
        {
          "output_type": "stream",
          "name": "stderr",
          "text": [
            "\n"
          ]
        },
        {
          "output_type": "execute_result",
          "data": {
            "application/vnd.google.colaboratory.intrinsic+json": {
              "type": "string"
            },
            "text/plain": [
              "'DLC_resnet50_vomittingOct19shuffle1_11000'"
            ]
          },
          "metadata": {},
          "execution_count": 35
        }
      ]
    },
    {
      "cell_type": "code",
      "metadata": {
        "colab": {
          "base_uri": "https://localhost:8080/"
        },
        "id": "cn3V_U8Ocgfo",
        "outputId": "7b7bc924-cfd5-4aa9-ee15-19458b699e05"
      },
      "source": [
        "deeplabcut.plot_trajectories(path_config_file,videofile_path, videotype=VideoType)"
      ],
      "execution_count": null,
      "outputs": [
        {
          "output_type": "stream",
          "name": "stdout",
          "text": [
            "Loading  /content/drive/My Drive/Colab Notebooks/shrew_emesis/vomitting-LMS-2021-10-19/videos/original_video/nicotine_emesis_10.19.21_shrew2_short.mp4 and data.\n",
            "Plots created! Please check the directory \"plot-poses\" within the video directory\n"
          ]
        }
      ]
    },
    {
      "cell_type": "code",
      "metadata": {
        "id": "fYMU61s_ckwt"
      },
      "source": [
        "deeplabcut.create_labeled_video(path_config_file,videofile_path, videotype=\"mp4\")"
      ],
      "execution_count": null,
      "outputs": []
    },
    {
      "cell_type": "code",
      "metadata": {
        "id": "wnrfyOmwcmuI"
      },
      "source": [
        ""
      ],
      "execution_count": null,
      "outputs": []
    }
  ]
}